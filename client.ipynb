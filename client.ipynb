{
 "cells": [
  {
   "cell_type": "code",
   "execution_count": null,
   "metadata": {},
   "outputs": [],
   "source": [
    "import socket\n",
    "import time\n",
    "import threading\n",
    "\n",
    "class MessagingClient:\n",
    "    def __init__(self, port, username): #Initializes Client       \n",
    "        self.ip_address = socket.gethostbyname(socket.gethostname())\n",
    "        self.port = port\n",
    "        \n",
    "        self.name = username\n",
    "        self.client_addr = (self.ip_address, self.port)\n",
    "\n",
    "    def connect(self, server_ip, server_port):\n",
    "        self.server_addr = (server_ip, server_port)\n",
    "\n",
    "        self.client_socket = socket.socket(socket.AF_INET, socket.SOCK_STREAM)\n",
    "        self.client_socket.connect(self.server_addr)\n",
    "        \n",
    "        self.login()\n",
    "        print(\"[Login] Login succeedes.\\n\")\n",
    "    \n",
    "    def login(self):\n",
    "        packet = self.name + ':' + 'Login' + ':' + ''\n",
    "        encoded_packet = packet.encode(\"utf-8\")\n",
    "        \n",
    "        self.client_socket.send(encoded_packet)\n",
    "\n",
    "    def message(self, message='', user=''):\n",
    "        \n",
    "        while True:\n",
    "            message = input('Type messaging text and forward user here....(e.g. text->name)\\n').split('->')\n",
    "            packet = self.name + ':' + message[0] + ':' + message[1].strip()\n",
    "            encoded_packet = packet.encode(\"utf-8\")\n",
    "\n",
    "            self.client_socket.send(encoded_packet)\n",
    "\n",
    "    def receive(self):\n",
    "        \n",
    "        while True:\n",
    "            response = self.client_socket.recv(1024)\n",
    "            \n",
    "            if response:\n",
    "                print(response.decode(\"utf-8\"))\n",
    "\n",
    "    def disconnect(self):\n",
    "        self.client_socket.close()\n",
    "    \n",
    "    def run(self, server_ip, server_port):\n",
    "        self.connect(server_ip, server_port)\n",
    "        \n",
    "        threading.Thread(target=self.receive).start()\n",
    "        self.message()\n"
   ]
  },
  {
   "cell_type": "code",
   "execution_count": null,
   "metadata": {},
   "outputs": [],
   "source": []
  },
  {
   "cell_type": "code",
   "execution_count": null,
   "metadata": {},
   "outputs": [
    {
     "name": "stdout",
     "output_type": "stream",
     "text": [
      "Hi!\n",
      "Hi!\n",
      "Type messaging text and forward user here....(e.g. text->name)2\n",
      "Hi!\n",
      "Type messaging text and forward user here....(e.g. text->name)3\n",
      "Hi!\n",
      "Hi!\n"
     ]
    }
   ],
   "source": [
    "# import time\n",
    "# import threading\n",
    "\n",
    "# def msg():\n",
    "#     while True:\n",
    "#         try:\n",
    "#             input('Type messaging text and forward user here....(e.g. text->name)')\n",
    "#         except:\n",
    "#             pass\n",
    "# def rec():\n",
    "#     for i in range(10):\n",
    "#         print(\"Hi!\")\n",
    "        \n",
    "#         time.sleep(2)\n",
    "\n",
    "# thread_rec = threading.Thread(target=rec)\n",
    "# thread_rec.start()\n",
    "# msg()\n",
    "\n"
   ]
  },
  {
   "cell_type": "code",
   "execution_count": null,
   "metadata": {},
   "outputs": [],
   "source": []
  },
  {
   "cell_type": "code",
   "execution_count": null,
   "metadata": {},
   "outputs": [],
   "source": []
  },
  {
   "cell_type": "code",
   "execution_count": null,
   "metadata": {},
   "outputs": [],
   "source": []
  },
  {
   "cell_type": "code",
   "execution_count": null,
   "metadata": {},
   "outputs": [],
   "source": []
  },
  {
   "cell_type": "code",
   "execution_count": null,
   "metadata": {},
   "outputs": [],
   "source": []
  },
  {
   "cell_type": "code",
   "execution_count": null,
   "metadata": {},
   "outputs": [],
   "source": []
  },
  {
   "cell_type": "code",
   "execution_count": 15,
   "metadata": {},
   "outputs": [],
   "source": [
    "# import socket\n",
    "\n",
    "# ClientMultiSocket = socket.socket()\n",
    "# host = '192.168.10.4'\n",
    "# port = 317\n",
    "\n",
    "# print('Waiting for connection response')\n",
    "# try:\n",
    "#     ClientMultiSocket.connect((host, port))\n",
    "# except socket.error as e:\n",
    "#     print(str(e))\n",
    "\n",
    "# res = ClientMultiSocket.recv(1024)\n",
    "\n",
    "# while True:\n",
    "#     Input = input('Hey there: ')\n",
    "#     ClientMultiSocket.send(str.encode(Input))\n",
    "#     res = ClientMultiSocket.recv(1024)\n",
    "    \n",
    "#     print(res.decode('utf-8'))\n",
    "\n",
    "# ClientMultiSocket.close()"
   ]
  },
  {
   "cell_type": "code",
   "execution_count": null,
   "metadata": {},
   "outputs": [],
   "source": []
  }
 ],
 "metadata": {
  "kernelspec": {
   "display_name": "Python 3",
   "language": "python",
   "name": "python3"
  },
  "language_info": {
   "codemirror_mode": {
    "name": "ipython",
    "version": 3
   },
   "file_extension": ".py",
   "mimetype": "text/x-python",
   "name": "python",
   "nbconvert_exporter": "python",
   "pygments_lexer": "ipython3",
   "version": "3.7.6"
  }
 },
 "nbformat": 4,
 "nbformat_minor": 4
}
