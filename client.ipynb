{
 "cells": [
  {
   "cell_type": "code",
   "execution_count": 34,
   "metadata": {},
   "outputs": [],
   "source": [
    "import socket\n",
    "import time\n",
    "\n",
    "class MessagingClient:\n",
    "    def __init__(self, port): #Initializes Client\n",
    "        self.name = socket.gethostname()\n",
    "        \n",
    "        self.ip_address = socket.gethostbyname(self.name)\n",
    "        self.port = port\n",
    "        self.client_addr = (self.ip_address, self.port)\n",
    "\n",
    "    def connect(self, server_ip, server_port):\n",
    "        self.server_addr = (server_ip, server_port)\n",
    "\n",
    "        self.client_socket = socket.socket(socket.AF_INET, socket.SOCK_STREAM)\n",
    "        self.client_socket.connect(self.server_addr)\n",
    "\n",
    "    def message(self, message, user):\n",
    "        \n",
    "        packet = message + 'to' + user\n",
    "        encoded_packet = packet.encode(\"utf-8\")\n",
    "\n",
    "        bufsize = len(packet)\n",
    "\n",
    "        #self.client_socket.send(str(bufsize).encode(\"utf-8\"))\n",
    "        #time.sleep(1)\n",
    "        #conf = self.client_socket.recv(8)\n",
    "\n",
    "        self.client_socket.send(encoded_packet)\n",
    "\n",
    "    def recieve(self):\n",
    "        response_size = self.client_socket.recv(4).decode(\"utf-8\")\n",
    "        response = self.client_socket.recv(response_size).decode(\"utf-8\")\n",
    "\n",
    "        print(response)\n",
    "\n",
    "    def disconnect(self):\n",
    "        self.client_socket.close()"
   ]
  },
  {
   "cell_type": "code",
   "execution_count": 35,
   "metadata": {},
   "outputs": [],
   "source": [
    "c1 = MessagingClient(1)\n",
    "c2 = MessagingClient(2)\n",
    "\n",
    "c1.connect(\"192.168.10.4\", 317)\n",
    "c2.connect(\"192.168.10.4\", 317)\n",
    "\n",
    "c1.message(\"Say hi from c1\", 'c2')\n",
    "c2.message(\"Say hi from c2\", 'c1')"
   ]
  },
  {
   "cell_type": "code",
   "execution_count": 36,
   "metadata": {},
   "outputs": [],
   "source": []
  },
  {
   "cell_type": "code",
   "execution_count": 37,
   "metadata": {},
   "outputs": [],
   "source": []
  },
  {
   "cell_type": "code",
   "execution_count": null,
   "metadata": {},
   "outputs": [],
   "source": []
  },
  {
   "cell_type": "code",
   "execution_count": null,
   "metadata": {},
   "outputs": [],
   "source": []
  },
  {
   "cell_type": "code",
   "execution_count": 33,
   "metadata": {},
   "outputs": [],
   "source": []
  },
  {
   "cell_type": "code",
   "execution_count": null,
   "metadata": {},
   "outputs": [],
   "source": []
  }
 ],
 "metadata": {
  "kernelspec": {
   "display_name": "Python 3",
   "language": "python",
   "name": "python3"
  },
  "language_info": {
   "codemirror_mode": {
    "name": "ipython",
    "version": 3
   },
   "file_extension": ".py",
   "mimetype": "text/x-python",
   "name": "python",
   "nbconvert_exporter": "python",
   "pygments_lexer": "ipython3",
   "version": "3.7.6"
  }
 },
 "nbformat": 4,
 "nbformat_minor": 4
}
