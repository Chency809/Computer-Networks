{
 "cells": [
  {
   "cell_type": "code",
   "execution_count": 34,
   "metadata": {},
   "outputs": [],
   "source": [
    "import socket\n",
    "import time\n",
    "\n",
    "class MessagingClient:\n",
    "    def __init__(self, port): #Initializes Client\n",
    "        self.name = socket.gethostname()\n",
    "        \n",
    "        self.ip_address = socket.gethostbyname(self.name)\n",
    "        self.port = port\n",
    "        self.client_addr = (self.ip_address, self.port)\n",
    "\n",
    "    def connect(self, server_ip, server_port):\n",
    "        self.server_addr = (server_ip, server_port)\n",
    "\n",
    "        self.client_socket = socket.socket(socket.AF_INET, socket.SOCK_STREAM)\n",
    "        self.client_socket.connect(self.server_addr)\n",
    "\n",
    "    def message(self, message, user):\n",
    "        \n",
    "        packet = message + 'to' + user\n",
    "        encoded_packet = packet.encode(\"utf-8\")\n",
    "\n",
    "        bufsize = len(packet)\n",
    "\n",
    "        #self.client_socket.send(str(bufsize).encode(\"utf-8\"))\n",
    "        #time.sleep(1)\n",
    "        #conf = self.client_socket.recv(8)\n",
    "\n",
    "        self.client_socket.send(encoded_packet)\n",
    "\n",
    "    def recieve(self):\n",
    "        response_size = self.client_socket.recv(4).decode(\"utf-8\")\n",
    "#         response_sizeStr = str(responseSize)\n",
    "#         responseSizeInt = int(responseSizeStr)\n",
    "        response = self.client_socket.recv(response_size).decode(\"utf-8\")\n",
    "\n",
    "        print(response) #For Testing\n",
    "        #return response\n",
    "\n",
    "    def disconnect(self):\n",
    "        self.client_socket.close()"
   ]
  },
  {
   "cell_type": "code",
   "execution_count": 35,
   "metadata": {},
   "outputs": [],
   "source": [
    "c1 = MessagingClient(1)\n"
   ]
  },
  {
   "cell_type": "code",
   "execution_count": 36,
   "metadata": {},
   "outputs": [],
   "source": [
    "c1.connect(\"192.168.10.4\", 317)"
   ]
  },
  {
   "cell_type": "code",
   "execution_count": 37,
   "metadata": {},
   "outputs": [],
   "source": [
    "c1.message(\"from c1\", 'c2')"
   ]
  },
  {
   "cell_type": "code",
   "execution_count": 18,
   "metadata": {},
   "outputs": [
    {
     "ename": "ConnectionAbortedError",
     "evalue": "[WinError 10053] An established connection was aborted by the software in your host machine",
     "output_type": "error",
     "traceback": [
      "\u001b[1;31m---------------------------------------------------------------------------\u001b[0m",
      "\u001b[1;31mConnectionAbortedError\u001b[0m                    Traceback (most recent call last)",
      "\u001b[1;32m<ipython-input-18-de02b688542c>\u001b[0m in \u001b[0;36m<module>\u001b[1;34m\u001b[0m\n\u001b[1;32m----> 1\u001b[1;33m \u001b[0mc1\u001b[0m\u001b[1;33m.\u001b[0m\u001b[0mmessage\u001b[0m\u001b[1;33m(\u001b[0m\u001b[1;34m\"hau\"\u001b[0m\u001b[1;33m,\u001b[0m \u001b[1;34m'c2'\u001b[0m\u001b[1;33m)\u001b[0m\u001b[1;33m\u001b[0m\u001b[1;33m\u001b[0m\u001b[0m\n\u001b[0m",
      "\u001b[1;32m<ipython-input-5-ad38d6cbb905>\u001b[0m in \u001b[0;36mmessage\u001b[1;34m(self, message, user)\u001b[0m\n\u001b[0;32m     27\u001b[0m         \u001b[1;31m#conf = self.client_socket.recv(8)\u001b[0m\u001b[1;33m\u001b[0m\u001b[1;33m\u001b[0m\u001b[1;33m\u001b[0m\u001b[0m\n\u001b[0;32m     28\u001b[0m \u001b[1;33m\u001b[0m\u001b[0m\n\u001b[1;32m---> 29\u001b[1;33m         \u001b[0mself\u001b[0m\u001b[1;33m.\u001b[0m\u001b[0mclient_socket\u001b[0m\u001b[1;33m.\u001b[0m\u001b[0msend\u001b[0m\u001b[1;33m(\u001b[0m\u001b[0mencoded_packet\u001b[0m\u001b[1;33m)\u001b[0m\u001b[1;33m\u001b[0m\u001b[1;33m\u001b[0m\u001b[0m\n\u001b[0m\u001b[0;32m     30\u001b[0m \u001b[1;33m\u001b[0m\u001b[0m\n\u001b[0;32m     31\u001b[0m     \u001b[1;32mdef\u001b[0m \u001b[0mrecieve\u001b[0m\u001b[1;33m(\u001b[0m\u001b[0mself\u001b[0m\u001b[1;33m)\u001b[0m\u001b[1;33m:\u001b[0m\u001b[1;33m\u001b[0m\u001b[1;33m\u001b[0m\u001b[0m\n",
      "\u001b[1;31mConnectionAbortedError\u001b[0m: [WinError 10053] An established connection was aborted by the software in your host machine"
     ]
    }
   ],
   "source": [
    "c1.message(\"hau\", 'c2')"
   ]
  },
  {
   "cell_type": "code",
   "execution_count": 32,
   "metadata": {},
   "outputs": [],
   "source": []
  },
  {
   "cell_type": "code",
   "execution_count": 33,
   "metadata": {},
   "outputs": [],
   "source": []
  },
  {
   "cell_type": "code",
   "execution_count": null,
   "metadata": {},
   "outputs": [],
   "source": []
  }
 ],
 "metadata": {
  "kernelspec": {
   "display_name": "Python 3",
   "language": "python",
   "name": "python3"
  },
  "language_info": {
   "codemirror_mode": {
    "name": "ipython",
    "version": 3
   },
   "file_extension": ".py",
   "mimetype": "text/x-python",
   "name": "python",
   "nbconvert_exporter": "python",
   "pygments_lexer": "ipython3",
   "version": "3.7.6"
  }
 },
 "nbformat": 4,
 "nbformat_minor": 4
}
