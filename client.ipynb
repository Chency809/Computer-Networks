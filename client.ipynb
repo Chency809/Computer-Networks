{
 "cells": [
  {
   "cell_type": "code",
   "execution_count": 1,
   "metadata": {},
   "outputs": [],
   "source": [
    "import socket\n",
    "import time\n",
    "\n",
    "class MessagingClient:\n",
    "    def __init__(self, port): #Initializes Client\n",
    "        self.name = socket.gethostname()\n",
    "        \n",
    "        self.ip_address = socket.gethostbyname(self.name)\n",
    "        self.port = port\n",
    "        self.client_addr = (self.ip_address, self.port)\n",
    "\n",
    "    def connect(self, server_ip, server_port):\n",
    "        self.server_addr = (server_ip, server_port)\n",
    "\n",
    "        self.client_socket = socket.socket(socket.AF_INET, socket.SOCK_STREAM)\n",
    "        self.client_socket.connect(self.server_addr)\n",
    "\n",
    "    def message(self, message, user):\n",
    "        \n",
    "        packet = message + 'to' + user\n",
    "        encoded_packet = packet.encode(\"utf-8\")\n",
    "\n",
    "        bufsize = len(packet)\n",
    "\n",
    "        #self.client_socket.send(str(bufsize).encode(\"utf-8\"))\n",
    "        #time.sleep(1)\n",
    "        #conf = self.client_socket.recv(8)\n",
    "\n",
    "        self.client_socket.send(encoded_packet)\n",
    "\n",
    "    def recieve(self):\n",
    "        response_size = self.client_socket.recv(4).decode(\"utf-8\")\n",
    "        response = self.client_socket.recv(response_size).decode(\"utf-8\")\n",
    "\n",
    "        print(response)\n",
    "\n",
    "    def disconnect(self):\n",
    "        self.client_socket.close()"
   ]
  },
  {
   "cell_type": "code",
   "execution_count": 13,
   "metadata": {},
   "outputs": [],
   "source": [
    "if __name__ == '__main__':\n",
    "    c1 = MessagingClient(1)\n",
    "    \n",
    "    c1.connect(\"192.168.10.4\", 317)\n",
    "    c1.message(\"Say hi from c1\", 'c2')\n"
   ]
  },
  {
   "cell_type": "code",
   "execution_count": 14,
   "metadata": {},
   "outputs": [],
   "source": []
  },
  {
   "cell_type": "code",
   "execution_count": null,
   "metadata": {},
   "outputs": [],
   "source": []
  },
  {
   "cell_type": "code",
   "execution_count": null,
   "metadata": {},
   "outputs": [],
   "source": []
  },
  {
   "cell_type": "code",
   "execution_count": null,
   "metadata": {},
   "outputs": [],
   "source": []
  },
  {
   "cell_type": "code",
   "execution_count": null,
   "metadata": {},
   "outputs": [],
   "source": []
  },
  {
   "cell_type": "code",
   "execution_count": 15,
   "metadata": {},
   "outputs": [],
   "source": [
    "# import socket\n",
    "\n",
    "# ClientMultiSocket = socket.socket()\n",
    "# host = '192.168.10.4'\n",
    "# port = 317\n",
    "\n",
    "# print('Waiting for connection response')\n",
    "# try:\n",
    "#     ClientMultiSocket.connect((host, port))\n",
    "# except socket.error as e:\n",
    "#     print(str(e))\n",
    "\n",
    "# res = ClientMultiSocket.recv(1024)\n",
    "\n",
    "# while True:\n",
    "#     Input = input('Hey there: ')\n",
    "#     ClientMultiSocket.send(str.encode(Input))\n",
    "#     res = ClientMultiSocket.recv(1024)\n",
    "    \n",
    "#     print(res.decode('utf-8'))\n",
    "\n",
    "# ClientMultiSocket.close()"
   ]
  },
  {
   "cell_type": "code",
   "execution_count": null,
   "metadata": {},
   "outputs": [],
   "source": []
  }
 ],
 "metadata": {
  "kernelspec": {
   "display_name": "Python 3",
   "language": "python",
   "name": "python3"
  },
  "language_info": {
   "codemirror_mode": {
    "name": "ipython",
    "version": 3
   },
   "file_extension": ".py",
   "mimetype": "text/x-python",
   "name": "python",
   "nbconvert_exporter": "python",
   "pygments_lexer": "ipython3",
   "version": "3.7.6"
  }
 },
 "nbformat": 4,
 "nbformat_minor": 4
}
