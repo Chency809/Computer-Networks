{
 "cells": [
  {
   "cell_type": "code",
   "execution_count": 1,
   "metadata": {},
   "outputs": [],
   "source": [
    "import socket\n",
    "import threading\n",
    "\n",
    "class MessagingServer:\n",
    "    def __init__(self): # Initialize the server\n",
    "        self.name = socket.gethostname()\n",
    "        \n",
    "        self.ip_address = socket.gethostbyname(self.name)\n",
    "        self.port = 317\n",
    "\n",
    "        self.socket = socket.socket(socket.AF_INET, socket.SOCK_STREAM)\n",
    "\n",
    "        self.socket.bind((self.ip_address, self.port))\n",
    "\n",
    "\n",
    "    def handle_client(self, client_conn, client_addr):\n",
    "        \n",
    "        while True:\n",
    "            packet = client_conn.recv(1024).decode('utf-8').split('to')\n",
    "            message, forward_user = packet[0], packet[1]\n",
    "\n",
    "            print(message, forward_user)\n",
    "\n",
    "            print(f\"client ({client_addr} connected)\")\n",
    "\n",
    "\n",
    "    def startUp(self):\n",
    "        self.socket.listen(5)\n",
    "        count = 0\n",
    "        \n",
    "        while True:\n",
    "            \n",
    "            count += 1\n",
    "            print(count)\n",
    "            print(f\"Active clients: {threading.activeCount() - 1}\")\n",
    "            \n",
    "            client_conn, client_addr = self.socket.accept()\n",
    "            \n",
    "            thread = threading.Thread(target=self.handle_client, args = (client_conn, client_addr))\n",
    "            \n",
    "            thread.start()\n",
    "            thread.join()\n",
    "            \n",
    "            # print(f\"Active clients: {threading.activeCount() - 1}\")\n",
    "\n",
    "    def start(self):\n",
    "        self.socket.listen(5)\n",
    "        client_conn, client_addr = self.socket.accept()\n",
    "        \n",
    "        message = client_conn.recv(1024).decode('utf-8')\n",
    "        \n",
    "        print(message)\n",
    "        \n",
    "        client_conn.close()\n",
    "        self.socket.close()\n"
   ]
  },
  {
   "cell_type": "code",
   "execution_count": 2,
   "metadata": {},
   "outputs": [],
   "source": [
    "server = MessagingServer()"
   ]
  },
  {
   "cell_type": "code",
   "execution_count": 3,
   "metadata": {},
   "outputs": [
    {
     "name": "stdout",
     "output_type": "stream",
     "text": [
      "192.168.10.4\n",
      "317\n"
     ]
    }
   ],
   "source": [
    "print(server.ip_address)\n",
    "print(server.port)"
   ]
  },
  {
   "cell_type": "code",
   "execution_count": null,
   "metadata": {},
   "outputs": [
    {
     "name": "stdout",
     "output_type": "stream",
     "text": [
      "1\n",
      "Active clients: 4\n",
      "from c1 c2\n",
      "client (('192.168.10.4', 50513) connected)\n"
     ]
    }
   ],
   "source": [
    "server.startUp()"
   ]
  },
  {
   "cell_type": "code",
   "execution_count": 7,
   "metadata": {},
   "outputs": [],
   "source": [
    "del server"
   ]
  },
  {
   "cell_type": "code",
   "execution_count": null,
   "metadata": {},
   "outputs": [],
   "source": []
  },
  {
   "cell_type": "code",
   "execution_count": 4,
   "metadata": {},
   "outputs": [],
   "source": [
    "# def on_new_client(client_socket):\n",
    "#     #while True:\n",
    "#     msg = client_socket.recv(1024).decode('utf-8')\n",
    "#     #do some checks and if msg == someWeirdSignal: break:\n",
    "#     print (client_socket.client_addr, ' >> ', msg)\n",
    "    \n",
    "#     #Maybe some code to compute the last digit of PI, play game or anything else can go here and when you are done.\n",
    "#     #clientsocket.send(msg)\n",
    "\n",
    "#     clientsocket.close()"
   ]
  },
  {
   "cell_type": "code",
   "execution_count": 4,
   "metadata": {},
   "outputs": [],
   "source": [
    "server.socket.listen(5)\n",
    "c, addr = server.socket.accept()"
   ]
  },
  {
   "cell_type": "code",
   "execution_count": null,
   "metadata": {},
   "outputs": [
    {
     "name": "stdout",
     "output_type": "stream",
     "text": [
      "('192.168.10.4', 57883)\n",
      "from c1 c2\n",
      "('192.168.10.4', 57883)\n",
      "hau c2\n",
      "('192.168.10.4', 57883)\n"
     ]
    }
   ],
   "source": [
    "server.socket.listen(5)\n",
    "c, addr = server.socket.accept()\n",
    "\n",
    "for i in range(10): # while True:\n",
    "         # c, addr = server.socket.accept() Establish connection with client.\n",
    "    \n",
    "    print(addr)\n",
    "    \n",
    "    packet = c.recv(1024).decode('utf-8').split('to')\n",
    "    message, forward_user = packet[0], packet[1]\n",
    "    \n",
    "    print(message, forward_user)\n",
    "    \n",
    "#server.close()"
   ]
  },
  {
   "cell_type": "code",
   "execution_count": 3,
   "metadata": {},
   "outputs": [
    {
     "ename": "NameError",
     "evalue": "name 'server' is not defined",
     "output_type": "error",
     "traceback": [
      "\u001b[1;31m---------------------------------------------------------------------------\u001b[0m",
      "\u001b[1;31mNameError\u001b[0m                                 Traceback (most recent call last)",
      "\u001b[1;32m<ipython-input-3-333c1b83b80b>\u001b[0m in \u001b[0;36m<module>\u001b[1;34m\u001b[0m\n\u001b[1;32m----> 1\u001b[1;33m \u001b[0mserver\u001b[0m\u001b[1;33m.\u001b[0m\u001b[0msocket\u001b[0m\u001b[1;33m.\u001b[0m\u001b[0mclose\u001b[0m\u001b[1;33m(\u001b[0m\u001b[1;33m)\u001b[0m\u001b[1;33m\u001b[0m\u001b[1;33m\u001b[0m\u001b[0m\n\u001b[0m",
      "\u001b[1;31mNameError\u001b[0m: name 'server' is not defined"
     ]
    }
   ],
   "source": [
    "server.socket.close()"
   ]
  },
  {
   "cell_type": "code",
   "execution_count": null,
   "metadata": {},
   "outputs": [],
   "source": []
  },
  {
   "cell_type": "code",
   "execution_count": null,
   "metadata": {},
   "outputs": [],
   "source": []
  },
  {
   "cell_type": "code",
   "execution_count": null,
   "metadata": {},
   "outputs": [],
   "source": []
  }
 ],
 "metadata": {
  "kernelspec": {
   "display_name": "Python 3",
   "language": "python",
   "name": "python3"
  },
  "language_info": {
   "codemirror_mode": {
    "name": "ipython",
    "version": 3
   },
   "file_extension": ".py",
   "mimetype": "text/x-python",
   "name": "python",
   "nbconvert_exporter": "python",
   "pygments_lexer": "ipython3",
   "version": "3.7.6"
  }
 },
 "nbformat": 4,
 "nbformat_minor": 4
}
