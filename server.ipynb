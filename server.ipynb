{
 "cells": [
  {
   "cell_type": "code",
   "execution_count": 1,
   "metadata": {},
   "outputs": [],
   "source": [
    "import socket\n",
    "import threading\n",
    "\n",
    "class MessagingServer:\n",
    "    def __init__(self): # Initialize the server\n",
    "        self.name = socket.gethostname()\n",
    "        \n",
    "        self.ip_address = socket.gethostbyname(self.name)\n",
    "        self.port = 317\n",
    "\n",
    "        self.socket = socket.socket(socket.AF_INET, socket.SOCK_STREAM)\n",
    "        self.socket.bind((self.ip_address, self.port))\n",
    "\n",
    "    def handle_client(self, client_conn, client_addr):\n",
    "        \n",
    "        while True:\n",
    "            packet = client_conn.recv(1024).decode('utf-8').split('to')\n",
    "            message, forward_user = packet[0], packet[1]\n",
    "\n",
    "            print(message, forward_user)\n",
    "            print(f\"client ({client_addr} connected)\")\n",
    "\n",
    "\n",
    "    def run(self):\n",
    "        self.socket.listen(5)\n",
    "        count = 0\n",
    "        \n",
    "        while True:\n",
    "            \n",
    "            count += 1\n",
    "            print(count)\n",
    "            #print(f\"Active clients: {threading.activeCount() - 1}\")\n",
    "            \n",
    "            client_conn, client_addr = self.socket.accept()\n",
    "            \n",
    "            thread = threading.Thread(target=self.handle_client, args = (client_conn, client_addr))\n",
    "            \n",
    "            thread.start()\n",
    "            thread.join()          \n",
    "            # print(f\"Active clients: {threading.activeCount() - 1}\")\n",
    "\n",
    "#     def start(self):\n",
    "#         self.socket.listen(5)\n",
    "#         client_conn, client_addr = self.socket.accept()\n",
    "        \n",
    "#         message = client_conn.recv(1024).decode('utf-8')\n",
    "        \n",
    "#         print(message)\n",
    "        \n",
    "#         client_conn.close()\n",
    "#         self.socket.close()\n"
   ]
  },
  {
   "cell_type": "code",
   "execution_count": 2,
   "metadata": {},
   "outputs": [],
   "source": [
    "server = MessagingServer()\n",
    "\n",
    "print(server.ip_address)\n",
    "print(server.port)\n",
    "\n",
    "server.run()"
   ]
  },
  {
   "cell_type": "code",
   "execution_count": null,
   "metadata": {},
   "outputs": [],
   "source": []
  },
  {
   "cell_type": "code",
   "execution_count": null,
   "metadata": {},
   "outputs": [],
   "source": []
  },
  {
   "cell_type": "code",
   "execution_count": null,
   "metadata": {},
   "outputs": [],
   "source": []
  },
  {
   "cell_type": "code",
   "execution_count": null,
   "metadata": {},
   "outputs": [],
   "source": []
  },
  {
   "cell_type": "code",
   "execution_count": 4,
   "metadata": {},
   "outputs": [],
   "source": []
  },
  {
   "cell_type": "code",
   "execution_count": 4,
   "metadata": {},
   "outputs": [],
   "source": []
  },
  {
   "cell_type": "code",
   "execution_count": null,
   "metadata": {},
   "outputs": [],
   "source": []
  },
  {
   "cell_type": "code",
   "execution_count": null,
   "metadata": {},
   "outputs": [],
   "source": []
  },
  {
   "cell_type": "code",
   "execution_count": null,
   "metadata": {},
   "outputs": [],
   "source": []
  },
  {
   "cell_type": "code",
   "execution_count": null,
   "metadata": {},
   "outputs": [],
   "source": []
  },
  {
   "cell_type": "code",
   "execution_count": null,
   "metadata": {},
   "outputs": [],
   "source": []
  }
 ],
 "metadata": {
  "kernelspec": {
   "display_name": "Python 3",
   "language": "python",
   "name": "python3"
  },
  "language_info": {
   "codemirror_mode": {
    "name": "ipython",
    "version": 3
   },
   "file_extension": ".py",
   "mimetype": "text/x-python",
   "name": "python",
   "nbconvert_exporter": "python",
   "pygments_lexer": "ipython3",
   "version": "3.7.6"
  }
 },
 "nbformat": 4,
 "nbformat_minor": 4
}
