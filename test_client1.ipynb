{
 "cells": [
  {
   "cell_type": "code",
   "execution_count": null,
   "metadata": {},
   "outputs": [
    {
     "name": "stdout",
     "output_type": "stream",
     "text": [
      "[Login] Login succeedes.\n",
      "\n",
      "John is online.\n",
      "\n",
      "Type messaging text and forward user here....(e.g. text->name)\n",
      "How are you? -> Linda\n",
      "Mike:How you guys doing there? \n"
     ]
    }
   ],
   "source": [
    "from ipynb.fs.full.client import*\n",
    "\n",
    "c1 = MessagingClient(1, 'John')\n",
    "c1.run('192.168.10.4', 317)\n",
    "# c1.connect('192.168.10.4', 317)\n"
   ]
  },
  {
   "cell_type": "code",
   "execution_count": 4,
   "metadata": {},
   "outputs": [],
   "source": [
    "# c1.message('Say hi from c1', 'c2')"
   ]
  },
  {
   "cell_type": "code",
   "execution_count": 14,
   "metadata": {},
   "outputs": [],
   "source": []
  },
  {
   "cell_type": "code",
   "execution_count": null,
   "metadata": {},
   "outputs": [],
   "source": []
  },
  {
   "cell_type": "code",
   "execution_count": 11,
   "metadata": {},
   "outputs": [],
   "source": [
    "# import socket\n",
    "\n",
    "# ClientMultiSocket = socket.socket()\n",
    "# host = '192.168.10.4'\n",
    "# port = 317\n",
    "\n",
    "# print('Waiting for connection response')\n",
    "# try:\n",
    "#     ClientMultiSocket.connect((host, port))\n",
    "# except socket.error as e:\n",
    "#     print(str(e))\n",
    "\n",
    "# res = ClientMultiSocket.recv(1024)\n",
    "\n",
    "# while True:\n",
    "#     Input = input('Hey there: ')\n",
    "#     ClientMultiSocket.send(str.encode(Input))\n",
    "#     res = ClientMultiSocket.recv(1024)\n",
    "    \n",
    "#     print(res.decode('utf-8'))\n",
    "\n",
    "# ClientMultiSocket.close()"
   ]
  },
  {
   "cell_type": "code",
   "execution_count": null,
   "metadata": {},
   "outputs": [],
   "source": []
  }
 ],
 "metadata": {
  "kernelspec": {
   "display_name": "Python 3",
   "language": "python",
   "name": "python3"
  },
  "language_info": {
   "codemirror_mode": {
    "name": "ipython",
    "version": 3
   },
   "file_extension": ".py",
   "mimetype": "text/x-python",
   "name": "python",
   "nbconvert_exporter": "python",
   "pygments_lexer": "ipython3",
   "version": "3.7.6"
  }
 },
 "nbformat": 4,
 "nbformat_minor": 4
}
